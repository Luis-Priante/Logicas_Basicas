{
  "nbformat": 4,
  "nbformat_minor": 0,
  "metadata": {
    "colab": {
      "provenance": [],
      "toc_visible": true,
      "authorship_tag": "ABX9TyPGhRu58i+BkpKtGz8tQOCv",
      "include_colab_link": true
    },
    "kernelspec": {
      "name": "python3",
      "display_name": "Python 3"
    },
    "language_info": {
      "name": "python"
    }
  },
  "cells": [
    {
      "cell_type": "markdown",
      "metadata": {
        "id": "view-in-github",
        "colab_type": "text"
      },
      "source": [
        "<a href=\"https://colab.research.google.com/github/Luis-Priante/Logicas_Basicas/blob/main/Meu_primeiro_algoritimo.ipynb\" target=\"_parent\"><img src=\"https://colab.research.google.com/assets/colab-badge.svg\" alt=\"Open In Colab\"/></a>"
      ]
    },
    {
      "cell_type": "markdown",
      "source": [
        "Operadores Aritméticos\n"
      ],
      "metadata": {
        "id": "ZfFET5pJ84W1"
      }
    },
    {
      "cell_type": "markdown",
      "source": [
        "# Operadores Aritméticos"
      ],
      "metadata": {
        "id": "eY7mpH2K9VIG"
      }
    },
    {
      "cell_type": "code",
      "source": [
        "# Adição\n",
        "10+2"
      ],
      "metadata": {
        "colab": {
          "base_uri": "https://localhost:8080/"
        },
        "id": "QWZEyfAL7cqe",
        "outputId": "7fafd035-57e9-4e92-9be2-bf6bff023290"
      },
      "execution_count": null,
      "outputs": [
        {
          "output_type": "execute_result",
          "data": {
            "text/plain": [
              "12"
            ]
          },
          "metadata": {},
          "execution_count": 9
        }
      ]
    },
    {
      "cell_type": "code",
      "source": [
        "# Subtração\n",
        "\n",
        "5-3.5"
      ],
      "metadata": {
        "colab": {
          "base_uri": "https://localhost:8080/"
        },
        "id": "ZoFVeuyU7kiM",
        "outputId": "d60c0436-d0ed-47dd-e966-22916cfdd4de"
      },
      "execution_count": null,
      "outputs": [
        {
          "output_type": "execute_result",
          "data": {
            "text/plain": [
              "1.5"
            ]
          },
          "metadata": {},
          "execution_count": 10
        }
      ]
    },
    {
      "cell_type": "code",
      "source": [
        "# Divisão\n",
        "\n",
        "15/7"
      ],
      "metadata": {
        "colab": {
          "base_uri": "https://localhost:8080/"
        },
        "id": "O9N3NZzW7wKW",
        "outputId": "4706c8db-9eca-45fd-d80a-cc36d8451461"
      },
      "execution_count": null,
      "outputs": [
        {
          "output_type": "execute_result",
          "data": {
            "text/plain": [
              "2.142857142857143"
            ]
          },
          "metadata": {},
          "execution_count": 11
        }
      ]
    },
    {
      "cell_type": "code",
      "source": [
        "# Divisão Inteira\n",
        "\n",
        "15//7"
      ],
      "metadata": {
        "colab": {
          "base_uri": "https://localhost:8080/"
        },
        "id": "zHHVS00072D3",
        "outputId": "50ba9286-017e-41bd-d756-a7cc99faefdc"
      },
      "execution_count": null,
      "outputs": [
        {
          "output_type": "execute_result",
          "data": {
            "text/plain": [
              "2"
            ]
          },
          "metadata": {},
          "execution_count": 12
        }
      ]
    },
    {
      "cell_type": "code",
      "source": [
        "# Resto da divisão\n",
        "10%2\n"
      ],
      "metadata": {
        "colab": {
          "base_uri": "https://localhost:8080/"
        },
        "id": "YgHm9bfJ7-gB",
        "outputId": "98e24c8d-30fa-4e25-912b-88245777d438"
      },
      "execution_count": null,
      "outputs": [
        {
          "output_type": "execute_result",
          "data": {
            "text/plain": [
              "0"
            ]
          },
          "metadata": {},
          "execution_count": 16
        }
      ]
    },
    {
      "cell_type": "code",
      "source": [
        "# Potenciação\n",
        "10 ** 2"
      ],
      "metadata": {
        "colab": {
          "base_uri": "https://localhost:8080/"
        },
        "id": "tVoayNi-8rvr",
        "outputId": "726d80ec-e1bc-46b4-9d03-54196388c018"
      },
      "execution_count": null,
      "outputs": [
        {
          "output_type": "execute_result",
          "data": {
            "text/plain": [
              "100"
            ]
          },
          "metadata": {},
          "execution_count": 17
        }
      ]
    },
    {
      "cell_type": "markdown",
      "source": [
        "Operadores Relacionais"
      ],
      "metadata": {
        "id": "H_n_ETI-9HtV"
      }
    },
    {
      "cell_type": "markdown",
      "source": [
        "# Operadores Relacionais"
      ],
      "metadata": {
        "id": "imQOhgVS9NEl"
      }
    },
    {
      "cell_type": "code",
      "source": [
        "# Igual\n",
        "\n",
        "10 == 2"
      ],
      "metadata": {
        "colab": {
          "base_uri": "https://localhost:8080/"
        },
        "id": "b1geH8CR80eL",
        "outputId": "dc9ef8c7-2bb3-44f5-c322-36cd25e7f39a"
      },
      "execution_count": null,
      "outputs": [
        {
          "output_type": "execute_result",
          "data": {
            "text/plain": [
              "False"
            ]
          },
          "metadata": {},
          "execution_count": 20
        }
      ]
    },
    {
      "cell_type": "code",
      "source": [
        "# Diferente\n",
        "7 != 1"
      ],
      "metadata": {
        "colab": {
          "base_uri": "https://localhost:8080/"
        },
        "id": "AMTuPtqq_DCG",
        "outputId": "93eda9b8-ede8-4cff-9129-19deae1b6123"
      },
      "execution_count": null,
      "outputs": [
        {
          "output_type": "execute_result",
          "data": {
            "text/plain": [
              "True"
            ]
          },
          "metadata": {},
          "execution_count": 28
        }
      ]
    },
    {
      "cell_type": "code",
      "source": [
        "# Menor\n",
        "\n",
        "10 < 2"
      ],
      "metadata": {
        "colab": {
          "base_uri": "https://localhost:8080/"
        },
        "id": "V7dr2rKg9zdE",
        "outputId": "5e4f4ff3-55c8-405f-8613-d8b29062a114"
      },
      "execution_count": null,
      "outputs": [
        {
          "output_type": "execute_result",
          "data": {
            "text/plain": [
              "False"
            ]
          },
          "metadata": {},
          "execution_count": 29
        }
      ]
    },
    {
      "cell_type": "code",
      "source": [
        "# Maior\n",
        "\n",
        "10>2"
      ],
      "metadata": {
        "colab": {
          "base_uri": "https://localhost:8080/"
        },
        "id": "lYj9AR_f8bGj",
        "outputId": "52540b6c-419e-41c6-a2c5-fa6a92061809"
      },
      "execution_count": null,
      "outputs": [
        {
          "output_type": "execute_result",
          "data": {
            "text/plain": [
              "True"
            ]
          },
          "metadata": {},
          "execution_count": 30
        }
      ]
    },
    {
      "cell_type": "code",
      "source": [
        "# Maior ou igual\n",
        "\n",
        "5>=5"
      ],
      "metadata": {
        "colab": {
          "base_uri": "https://localhost:8080/"
        },
        "id": "qswNjcGb8Vwr",
        "outputId": "4bcecf02-26ae-4aee-faff-12dca0bf44eb"
      },
      "execution_count": null,
      "outputs": [
        {
          "output_type": "execute_result",
          "data": {
            "text/plain": [
              "True"
            ]
          },
          "metadata": {},
          "execution_count": 31
        }
      ]
    },
    {
      "cell_type": "code",
      "source": [
        "# Menor ou  igual\n",
        "\n",
        "200<=200"
      ],
      "metadata": {
        "colab": {
          "base_uri": "https://localhost:8080/"
        },
        "id": "CVADWW1FCOQY",
        "outputId": "5b55d270-4d31-4a67-a820-f202e90965c8"
      },
      "execution_count": null,
      "outputs": [
        {
          "output_type": "execute_result",
          "data": {
            "text/plain": [
              "True"
            ]
          },
          "metadata": {},
          "execution_count": 32
        }
      ]
    },
    {
      "cell_type": "markdown",
      "source": [
        "# Variáveis"
      ],
      "metadata": {
        "id": "tPWOjOlcDrbv"
      }
    },
    {
      "cell_type": "code",
      "source": [
        "# Nome da variável é “x” que armazena o valor 10\n",
        "x=30\n",
        "print(x)"
      ],
      "metadata": {
        "colab": {
          "base_uri": "https://localhost:8080/"
        },
        "id": "-MGAeIZdXA7U",
        "outputId": "e784a344-bf55-4c4a-aa06-0ab6adcfb612"
      },
      "execution_count": null,
      "outputs": [
        {
          "output_type": "stream",
          "name": "stdout",
          "text": [
            "30\n"
          ]
        }
      ]
    },
    {
      "cell_type": "code",
      "source": [
        "x!=10\n"
      ],
      "metadata": {
        "id": "xZfOieV6Dx75",
        "colab": {
          "base_uri": "https://localhost:8080/"
        },
        "outputId": "3e9ec6da-cca2-4751-e2aa-46cd6e31cb77"
      },
      "execution_count": null,
      "outputs": [
        {
          "output_type": "execute_result",
          "data": {
            "text/plain": [
              "False"
            ]
          },
          "metadata": {},
          "execution_count": 40
        }
      ]
    },
    {
      "cell_type": "code",
      "source": [
        "# **Case Sensitive**"
      ],
      "metadata": {
        "id": "chZy5d9GYVXr"
      },
      "execution_count": null,
      "outputs": []
    },
    {
      "cell_type": "code",
      "source": [
        "num = 10\n"
      ],
      "metadata": {
        "id": "q9WZhCPyYYn6"
      },
      "execution_count": null,
      "outputs": []
    },
    {
      "cell_type": "code",
      "source": [
        "numr = 10.5"
      ],
      "metadata": {
        "id": "zPp3hS7Laixm"
      },
      "execution_count": null,
      "outputs": []
    },
    {
      "cell_type": "code",
      "source": [
        "soma = num + numr"
      ],
      "metadata": {
        "id": "svfDK3Icalc-"
      },
      "execution_count": null,
      "outputs": []
    },
    {
      "cell_type": "code",
      "source": [
        "# Resultado\n",
        "\n",
        "string = 'Resultado '\n",
        "print(string, soma)"
      ],
      "metadata": {
        "colab": {
          "base_uri": "https://localhost:8080/"
        },
        "id": "k3FEq0Oha2Cj",
        "outputId": "3618e8b3-ab57-4d0b-d988-50ee5794ae24"
      },
      "execution_count": null,
      "outputs": [
        {
          "output_type": "stream",
          "name": "stdout",
          "text": [
            "Resultado  20.5\n"
          ]
        }
      ]
    },
    {
      "cell_type": "code",
      "source": [
        "x=50\n",
        "print('O valor de x é =',x)"
      ],
      "metadata": {
        "colab": {
          "base_uri": "https://localhost:8080/"
        },
        "id": "7FL7LqsEjL2B",
        "outputId": "76c492c4-02de-47c0-e631-7193b0550ee9"
      },
      "execution_count": null,
      "outputs": [
        {
          "output_type": "stream",
          "name": "stdout",
          "text": [
            "O valor de x é = 50\n"
          ]
        }
      ]
    },
    {
      "cell_type": "code",
      "source": [
        "nome = input('Digite o nome de um usuário por favor:')\n",
        "print('Olá',nome)"
      ],
      "metadata": {
        "colab": {
          "base_uri": "https://localhost:8080/"
        },
        "id": "VgqWjcw3jXCA",
        "outputId": "f8e0cbd0-58a6-4105-d148-12d4f20b8d63"
      },
      "execution_count": null,
      "outputs": [
        {
          "output_type": "stream",
          "name": "stdout",
          "text": [
            "Digite o nome de um usuário por favor:Luís\n",
            "Olá Luís\n"
          ]
        }
      ]
    },
    {
      "cell_type": "code",
      "source": [
        " F = 100\n",
        " F_int = int (F)\n",
        " print('número',type(F))\n",
        " F_float = float(F)\n",
        " print('número',type(F_float))"
      ],
      "metadata": {
        "colab": {
          "base_uri": "https://localhost:8080/"
        },
        "id": "LlN3sk4elswx",
        "outputId": "92440001-ba10-4b31-9e29-26b7f56f5c93"
      },
      "execution_count": null,
      "outputs": [
        {
          "output_type": "stream",
          "name": "stdout",
          "text": [
            "número <class 'int'>\n",
            "número <class 'float'>\n"
          ]
        }
      ]
    },
    {
      "cell_type": "code",
      "source": [
        "Valor = input('Digite o valor da mercadoria por favor:')\n",
        "desconto = input('Digite o valor do desconto em porcentagem:')\n",
        "Valor_float = float(Valor)\n",
        "desconto_int = int(desconto)\n",
        "\n",
        "print('valor final = ', Valor_float - (Valor_float*(desconto_int/100)))"
      ],
      "metadata": {
        "colab": {
          "base_uri": "https://localhost:8080/"
        },
        "id": "QNig8KOGlstv",
        "outputId": "0c30e022-cfcc-45f4-a333-9573b0ec1066"
      },
      "execution_count": null,
      "outputs": [
        {
          "output_type": "stream",
          "name": "stdout",
          "text": [
            "Digite o valor da mercadoria por favor:152.5\n",
            "Digite o valor do desconto em porcentagem:10\n",
            "valor final =  137.25\n"
          ]
        }
      ]
    },
    {
      "cell_type": "markdown",
      "source": [
        "# Condicional"
      ],
      "metadata": {
        "id": "Sga4O25EAuit"
      }
    },
    {
      "cell_type": "code",
      "source": [
        "Valor_dos_Materias = input('Digite o valor dos Materiais por favor:')\n",
        "Valor_da_Mao_de_Obra = input('Digite o valor da Mão de Obra por favor:')\n",
        "Valor_dos_Materias = float(Valor_dos_Materias)\n",
        "Valor_da_Mao_de_Obra = float(Valor_da_Mao_de_Obra)\n",
        "\n",
        "if Valor_dos_Materias > Valor_da_Mao_de_Obra:\n",
        "    print('Valor dos Materiais é maior que o da Mão de Obra')\n",
        "elif Valor_dos_Materias == Valor_da_Mao_de_Obra:\n",
        "    print('Valor dos Materiais é igual ao da Mão de Obra')\n",
        "else:\n",
        "    print('Valor da Mão de Obra é maior que o dos Materiais')\n"
      ],
      "metadata": {
        "colab": {
          "base_uri": "https://localhost:8080/"
        },
        "id": "egmI4ewgA-u8",
        "outputId": "f35a84dd-7521-46f8-959e-895c665dabe3"
      },
      "execution_count": null,
      "outputs": [
        {
          "output_type": "stream",
          "name": "stdout",
          "text": [
            "Digite o valor dos Materiais por favor:875.75\n",
            "Digite o valor da Mão de Obra por favor:1781.20\n",
            "Valor da Mão de Obra é maior que o dos Materiais\n"
          ]
        }
      ]
    },
    {
      "cell_type": "markdown",
      "source": [
        "# Estruturas de Repetição"
      ],
      "metadata": {
        "id": "K_AlSi3hNxMq"
      }
    },
    {
      "cell_type": "code",
      "source": [
        "for contador in range(10):\n",
        "    print(contador)\n",
        "\n",
        "    if contador == 5:\n",
        "        break"
      ],
      "metadata": {
        "colab": {
          "base_uri": "https://localhost:8080/"
        },
        "id": "MTbIuBA4N7-O",
        "outputId": "42a184b3-705c-4665-ba0c-9a19fcad59a1"
      },
      "execution_count": null,
      "outputs": [
        {
          "output_type": "stream",
          "name": "stdout",
          "text": [
            "0\n",
            "1\n",
            "2\n",
            "3\n",
            "4\n",
            "5\n"
          ]
        }
      ]
    },
    {
      "cell_type": "code",
      "source": [
        "for contador in range(1,10):\n",
        "    print(contador)"
      ],
      "metadata": {
        "colab": {
          "base_uri": "https://localhost:8080/"
        },
        "id": "-1l2OVaSOjv_",
        "outputId": "77cf17ed-8f64-480e-aa48-2362e20c0f22"
      },
      "execution_count": null,
      "outputs": [
        {
          "output_type": "stream",
          "name": "stdout",
          "text": [
            "1\n",
            "2\n",
            "3\n",
            "4\n",
            "5\n",
            "6\n",
            "7\n",
            "8\n",
            "9\n"
          ]
        }
      ]
    },
    {
      "cell_type": "code",
      "source": [
        "lista = [1,2,3,4,5]\n",
        "for item in lista:\n",
        "    print(item)\n",
        "\n",
        "    for i, item in enumerate(lista):\n",
        "        print(i,item)"
      ],
      "metadata": {
        "colab": {
          "base_uri": "https://localhost:8080/"
        },
        "id": "QjbXLoMBPUnH",
        "outputId": "89492d0f-5131-48ae-a583-6a454510ae5e"
      },
      "execution_count": null,
      "outputs": [
        {
          "output_type": "stream",
          "name": "stdout",
          "text": [
            "1\n",
            "0 1\n",
            "1 2\n",
            "2 3\n",
            "3 4\n",
            "4 5\n",
            "2\n",
            "0 1\n",
            "1 2\n",
            "2 3\n",
            "3 4\n",
            "4 5\n",
            "3\n",
            "0 1\n",
            "1 2\n",
            "2 3\n",
            "3 4\n",
            "4 5\n",
            "4\n",
            "0 1\n",
            "1 2\n",
            "2 3\n",
            "3 4\n",
            "4 5\n",
            "5\n",
            "0 1\n",
            "1 2\n",
            "2 3\n",
            "3 4\n",
            "4 5\n"
          ]
        }
      ]
    },
    {
      "cell_type": "markdown",
      "source": [
        "Comando For"
      ],
      "metadata": {
        "id": "OAqdX9aMC0RK"
      }
    },
    {
      "cell_type": "code",
      "source": [
        "Lista = (1,3,5,7,9)\n",
        "\n",
        "for val in Lista:\n",
        "   val = val * 2\n",
        "   print(val)"
      ],
      "metadata": {
        "colab": {
          "base_uri": "https://localhost:8080/"
        },
        "id": "nC_J6ZSUBu64",
        "outputId": "ca812afb-a4a4-48d3-e27a-a65ed772ed56"
      },
      "execution_count": null,
      "outputs": [
        {
          "output_type": "stream",
          "name": "stdout",
          "text": [
            "2\n",
            "6\n",
            "10\n",
            "14\n",
            "18\n"
          ]
        }
      ]
    },
    {
      "cell_type": "markdown",
      "source": [
        "Comando While"
      ],
      "metadata": {
        "id": "60j3-hQbCu1I"
      }
    },
    {
      "cell_type": "code",
      "source": [
        "val = 1\n",
        "while (val<=20):\n",
        "  val *=3\n",
        "  print(val)\n",
        "\n",
        "\n"
      ],
      "metadata": {
        "colab": {
          "base_uri": "https://localhost:8080/"
        },
        "id": "snc1DG6_CyP5",
        "outputId": "cfa3bee8-8fde-4e2d-82b8-6b71163f06c2"
      },
      "execution_count": null,
      "outputs": [
        {
          "output_type": "stream",
          "name": "stdout",
          "text": [
            "3\n",
            "9\n",
            "27\n"
          ]
        }
      ]
    },
    {
      "cell_type": "code",
      "source": [],
      "metadata": {
        "id": "FEfi-SI3PopX"
      },
      "execution_count": null,
      "outputs": []
    }
  ]
}